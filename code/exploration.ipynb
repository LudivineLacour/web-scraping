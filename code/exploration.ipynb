{
 "cells": [
  {
   "cell_type": "code",
   "execution_count": null,
   "metadata": {},
   "outputs": [],
   "source": [
    "import pandas as pd\n",
    "import requests as r\n",
    "import re\n",
    "from datetime import datetime\n",
    "from bs4 import BeautifulSoup\n",
    "import time\n",
    "import numpy as np\n",
    "import json\n",
    "import unicodedata\n",
    "import pymysql\n",
    "from sqlalchemy import create_engine"
   ]
  },
  {
   "cell_type": "markdown",
   "metadata": {},
   "source": [
    "## #1 Get the list of materials\n",
    "\n",
    "I will only work on French market. \n",
    "\n",
    "Final structure of url is as follow: `https://www.doctolib.fr/{specialite}/{ville|departement|region|pays}?page={number}`\n",
    "\n",
    "What I need:\n",
    "* List of specialties\n",
    "* List of department, region"
   ]
  },
  {
   "cell_type": "code",
   "execution_count": null,
   "metadata": {},
   "outputs": [],
   "source": [
    "# Get the list of specialities\n",
    "url='https://www.doctolib.fr/specialities'\n",
    "\n",
    "headers=\"user-agent: Mozilla/5.0 (Macintosh; Intel Mac OS X 10_13_6) AppleWebKit/537.36 (KHTML, like Gecko) Chrome/80.0.3987.163 Safari/537.36\"\n",
    "headers=dict([i.split(': ') for i in headers.split('\\n')])\n",
    "\n",
    "r.get(url,headers=headers)\n",
    "\n",
    "html=r.get(url,headers=headers).content\n",
    "soup=BeautifulSoup(html)"
   ]
  },
  {
   "cell_type": "code",
   "execution_count": null,
   "metadata": {},
   "outputs": [],
   "source": [
    "list_of_specialties_slug=[i[\"href\"].strip('/') for i in soup.select('h1+div a')]\n",
    "list_of_specialties=[i.text for i in soup.select('h1+div a')]\n",
    "list_of_specialties"
   ]
  },
  {
   "cell_type": "code",
   "execution_count": null,
   "metadata": {},
   "outputs": [],
   "source": [
    "## Get the list of departments and region\n",
    "departments=pd.read_csv('../data/departements-francais.csv',sep=\"\\t\") \n",
    "departments.head()"
   ]
  },
  {
   "cell_type": "code",
   "execution_count": null,
   "metadata": {},
   "outputs": [],
   "source": [
    "index_to_drop=departments.iloc[-2:].index\n",
    "departments.drop(index_to_drop,axis=0,inplace=True)"
   ]
  },
  {
   "cell_type": "code",
   "execution_count": null,
   "metadata": {},
   "outputs": [],
   "source": [
    "departments.columns=departments.columns.map(str.capitalize)"
   ]
  },
  {
   "cell_type": "code",
   "execution_count": null,
   "metadata": {},
   "outputs": [],
   "source": [
    "list_of_region=set([str(unicodedata.normalize('NFKD', x).encode('ASCII', 'ignore')).strip(\"b'\").strip('\"').lower().replace(\"'\",\"-\").replace(\" \",\"-\") for x in departments.loc[:,'Region']])\n",
    "list_of_region=list(list_of_region)\n",
    "list_of_region[0]\n"
   ]
  },
  {
   "cell_type": "code",
   "execution_count": null,
   "metadata": {},
   "outputs": [],
   "source": [
    "list_of_department=[str(unicodedata.normalize('NFKD', x).encode('ASCII', 'ignore')).strip(\"b'\").strip('\"').lower().replace(\"'\",\"-\").replace(\" \",\"-\") for x in departments.loc[:,'Nom']]\n",
    "list_of_department[6]\n"
   ]
  },
  {
   "cell_type": "markdown",
   "metadata": {},
   "source": [
    "## #2 Get database"
   ]
  },
  {
   "cell_type": "code",
   "execution_count": null,
   "metadata": {},
   "outputs": [],
   "source": [
    "# Get the content for one page\n",
    "base_url='https://www.doctolib.fr'\n",
    "speciality='medecin-generaliste'\n",
    "location='france'\n",
    "\n",
    "final_url=f\"{base_url}/{speciality}/{location}\"\n",
    "\n",
    "headers=\"\"\"accept: application/json\n",
    "accept-language: fr-FR,fr;q=0.9,en-US;q=0.8,en;q=0.7\n",
    "cache-control: no-cache\n",
    "content-type: application/json; charset=utf-8\n",
    "cookie: __cfduid=d2b5aa87f9a6624d7b6d080621c78dd071584958668; ssid=c8003987149mac-5zfwbZlNIgv0; cookie_consent=true; esid=Hag6WnEswqPNmOsSdO6nq8Jg; last_place=%7B%22place_id%22%3A%22ChIJD7fiBh9u5kcRYJSMaMOCCwQ%22%2C%22name%22%3A%22Paris%22%7D; utm_b2b=eyJfcmFpbHMiOnsibWVzc2FnZSI6IkJBaEpJaUoxZEcxZmMyOTFjbU5sUFdScGNtVmpkQ1oxZEcxZmJXVmthWFZ0UFFZNkJrVlUiLCJleHAiOiIyMDIwLTA0LTEwVDExOjMwOjQ5LjM3MloiLCJwdXIiOiJjb29raWUudXRtX2IyYiJ9fQ%3D%3D--34c8fb3207d661d5f08f5fd3388cb219e6a450ca; _doctolib_session=Hhv7pWEDJwdnyCQyqr7ThfPEQcS62D9lKg7M%2Fvz8R0AIHipjT1Hu8SN0rhu51Urw8FXsHuPmX0L2UfmzU62ZifdY0%2Ful6siBegn1tBS9xIOE68s0L8WvzGo2NpZ3WtP8lg7du3f9lA%2BDUY9qvMjbXWQbsnHeE2GdX%2F46rLZZ%2FDvPRwaKV4ZcEYrliAJoVx%2BTeyLg634T5KloWv2A4kStpH7OzTg2A%2FQs8TpEaffKhJckYWtV7uE0BQYcDW14sU3N18VFz1X3RU3uXoAhQxw7%2FcQgncDD4sdPdsO%2FUY7ou2T0IOMmi%2FkJL%2B2sVlpGRgfv21I5BaJFK0fu9l3YgjDL5BuvupSKtAxlaw%3D%3D--jN4XvOBX1kwEvjNq--YuCqF8thsE1OjQaZOd%2B%2Fug%3D%3D\n",
    "referer: https://www.doctolib.fr/\n",
    "user-agent: Mozilla/5.0 (Macintosh; Intel Mac OS X 10_13_6) AppleWebKit/537.36 (KHTML, like Gecko) Chrome/80.0.3987.163 Safari/537.36\n",
    "x-csrf-token: +AD1NNffpu2TUGR+i552cv/SJOdpo7KzgJOwVBys6r3/EBA3AwlvUidQ0R+FVeD3cUpNqeH+LYB2447FTjv7Rg==\"\"\"\n",
    "headers=dict([i.split(': ') for i in headers.split('\\n')])\n",
    "\n",
    "# Succeed to reteive a json format for the results of the search\n",
    "result=r.get(final_url,headers=headers).json()"
   ]
  },
  {
   "cell_type": "code",
   "execution_count": null,
   "metadata": {},
   "outputs": [],
   "source": [
    "# Get the content with all pages\n",
    "base_url='https://www.doctolib.fr'\n",
    "speciality='specialiste-en-reanimation'\n",
    "location='france'\n",
    "\n",
    "df_final=pd.DataFrame()\n",
    "i=0\n",
    "doctors=True\n",
    "\n",
    "while doctors:\n",
    "    \n",
    "    i+=1\n",
    "    \n",
    "    final_url=f\"{base_url}/{speciality}/{location}?page={i}\"\n",
    "    print(\"final_url: \",final_url)\n",
    "    \n",
    "    headers=f\"\"\"accept: application/json\n",
    "    accept-language: fr-FR,fr;q=0.9,en-US;q=0.8,en;q=0.7\n",
    "    cache-control: no-cache\n",
    "    content-type: application/json; charset=utf-8\n",
    "    cookie: __cfduid=d2b5aa87f9a6624d7b6d080621c78dd071584958668; ssid=c8003987149mac-5zfwbZlNIgv0; cookie_consent=true; esid=Hag6WnEswqPNmOsSdO6nq8Jg; last_place=%7B%22place_id%22%3A%22ChIJD7fiBh9u5kcRYJSMaMOCCwQ%22%2C%22name%22%3A%22Paris%22%7D; utm_b2b=eyJfcmFpbHMiOnsibWVzc2FnZSI6IkJBaEpJaUoxZEcxZmMyOTFjbU5sUFdScGNtVmpkQ1oxZEcxZmJXVmthWFZ0UFFZNkJrVlUiLCJleHAiOiIyMDIwLTA0LTEwVDExOjMwOjQ5LjM3MloiLCJwdXIiOiJjb29raWUudXRtX2IyYiJ9fQ%3D%3D--34c8fb3207d661d5f08f5fd3388cb219e6a450ca; _doctolib_session=Hhv7pWEDJwdnyCQyqr7ThfPEQcS62D9lKg7M%2Fvz8R0AIHipjT1Hu8SN0rhu51Urw8FXsHuPmX0L2UfmzU62ZifdY0%2Ful6siBegn1tBS9xIOE68s0L8WvzGo2NpZ3WtP8lg7du3f9lA%2BDUY9qvMjbXWQbsnHeE2GdX%2F46rLZZ%2FDvPRwaKV4ZcEYrliAJoVx%2BTeyLg634T5KloWv2A4kStpH7OzTg2A%2FQs8TpEaffKhJckYWtV7uE0BQYcDW14sU3N18VFz1X3RU3uXoAhQxw7%2FcQgncDD4sdPdsO%2FUY7ou2T0IOMmi%2FkJL%2B2sVlpGRgfv21I5BaJFK0fu9l3YgjDL5BuvupSKtAxlaw%3D%3D--jN4XvOBX1kwEvjNq--YuCqF8thsE1OjQaZOd%2B%2Fug%3D%3D\n",
    "    referer: https://www.doctolib.fr/{speciality}/{location}?page={1 if i<2 else i-1}\n",
    "    user-agent: Mozilla/5.0 (Macintosh; Intel Mac OS X 10_13_6) AppleWebKit/537.36 (KHTML, like Gecko) Chrome/80.0.3987.163 Safari/537.36\n",
    "    x-csrf-token: +AD1NNffpu2TUGR+i552cv/SJOdpo7KzgJOwVBys6r3/EBA3AwlvUidQ0R+FVeD3cUpNqeH+LYB2447FTjv7Rg==\"\"\"\n",
    "    headers=dict([i.strip().split(': ') for i in headers.split('\\n')])\n",
    "    \n",
    "    result=r.get(final_url,headers=headers).json()\n",
    "    #variable doctors allows to set the while loop to False when there is no more results\n",
    "    doctors=(len(result['data']['doctors'])!=0) or (len(result['data']['directory_doctors'])!=0)\n",
    "    \n",
    "    if len(result['data']['doctors'])>0:\n",
    "        data=pd.json_normalize(result['data']['doctors'])\n",
    "        data['doctolib_profile']=True\n",
    "        df_final=df_final.append(data)\n",
    "    \n",
    "    if len(result['data']['directory_doctors'])>0:\n",
    "        data=pd.json_normalize(result['data']['directory_doctors'])\n",
    "        data=data.rename(columns={'zip_code':'zipcode'})\n",
    "        data['doctolib_profile']=False\n",
    "        data['profile_id']=-1\n",
    "        df_final=df_final.append(data)\n",
    "            \n",
    "    time.sleep(0.2)\n",
    "    "
   ]
  },
  {
   "cell_type": "code",
   "execution_count": null,
   "metadata": {},
   "outputs": [],
   "source": [
    "# Final scrapping for all specialities\n",
    "base_url='https://www.doctolib.fr'\n",
    "location='france'\n",
    "\n",
    "df_final=pd.DataFrame()\n",
    "\n",
    "for i in range(len(list_of_specialties_slug)):\n",
    "    \n",
    "    speciality=list_of_specialties_slug[i]\n",
    "    i=0\n",
    "    doctors=True\n",
    "    print(\"speciality: \",speciality)\n",
    "    \n",
    "    while doctors:\n",
    "    \n",
    "        i+=1\n",
    "\n",
    "        final_url=f\"{base_url}/{speciality}/{location}?page={i}\"\n",
    "\n",
    "        headers=f\"\"\"accept: application/json\n",
    "        accept-language: fr-FR,fr;q=0.9,en-US;q=0.8,en;q=0.7\n",
    "        cache-control: no-cache\n",
    "        content-type: application/json; charset=utf-8\n",
    "        cookie: __cfduid=d2b5aa87f9a6624d7b6d080621c78dd071584958668; ssid=c8003987149mac-5zfwbZlNIgv0; cookie_consent=true; esid=Hag6WnEswqPNmOsSdO6nq8Jg; last_place=%7B%22place_id%22%3A%22ChIJD7fiBh9u5kcRYJSMaMOCCwQ%22%2C%22name%22%3A%22Paris%22%7D; utm_b2b=eyJfcmFpbHMiOnsibWVzc2FnZSI6IkJBaEpJaUoxZEcxZmMyOTFjbU5sUFdScGNtVmpkQ1oxZEcxZmJXVmthWFZ0UFFZNkJrVlUiLCJleHAiOiIyMDIwLTA0LTEwVDExOjMwOjQ5LjM3MloiLCJwdXIiOiJjb29raWUudXRtX2IyYiJ9fQ%3D%3D--34c8fb3207d661d5f08f5fd3388cb219e6a450ca; _doctolib_session=Hhv7pWEDJwdnyCQyqr7ThfPEQcS62D9lKg7M%2Fvz8R0AIHipjT1Hu8SN0rhu51Urw8FXsHuPmX0L2UfmzU62ZifdY0%2Ful6siBegn1tBS9xIOE68s0L8WvzGo2NpZ3WtP8lg7du3f9lA%2BDUY9qvMjbXWQbsnHeE2GdX%2F46rLZZ%2FDvPRwaKV4ZcEYrliAJoVx%2BTeyLg634T5KloWv2A4kStpH7OzTg2A%2FQs8TpEaffKhJckYWtV7uE0BQYcDW14sU3N18VFz1X3RU3uXoAhQxw7%2FcQgncDD4sdPdsO%2FUY7ou2T0IOMmi%2FkJL%2B2sVlpGRgfv21I5BaJFK0fu9l3YgjDL5BuvupSKtAxlaw%3D%3D--jN4XvOBX1kwEvjNq--YuCqF8thsE1OjQaZOd%2B%2Fug%3D%3D\n",
    "        referer: https://www.doctolib.fr/{speciality}/{location}?page={1 if i<2 else i-1}\n",
    "        user-agent: Mozilla/5.0 (Macintosh; Intel Mac OS X 10_13_6) AppleWebKit/537.36 (KHTML, like Gecko) Chrome/80.0.3987.163 Safari/537.36\n",
    "        x-csrf-token: +AD1NNffpu2TUGR+i552cv/SJOdpo7KzgJOwVBys6r3/EBA3AwlvUidQ0R+FVeD3cUpNqeH+LYB2447FTjv7Rg==\"\"\"\n",
    "        headers=dict([i.strip().split(': ') for i in headers.split('\\n')])\n",
    "\n",
    "        result=r.get(final_url,headers=headers).json()\n",
    "        #variable doctors allows to set the while loop to False when there is no more results\n",
    "        doctors=(len(result['data']['doctors'])!=0) or (len(result['data']['directory_doctors'])!=0)\n",
    "\n",
    "        if len(result['data']['doctors'])>0:\n",
    "            data=pd.json_normalize(result['data']['doctors'])\n",
    "            data['doctolib_profile']=True\n",
    "            df_final=df_final.append(data)\n",
    "\n",
    "        if len(result['data']['directory_doctors'])>0:\n",
    "            data=pd.json_normalize(result['data']['directory_doctors'])\n",
    "            data=data.rename(columns={'zip_code':'zipcode'})\n",
    "            data['doctolib_profile']=False\n",
    "            data['profile_id']=-1\n",
    "            df_final=df_final.append(data)\n",
    "\n",
    "        time.sleep(1)"
   ]
  },
  {
   "cell_type": "code",
   "execution_count": null,
   "metadata": {},
   "outputs": [],
   "source": [
    "df_final.shape"
   ]
  },
  {
   "cell_type": "code",
   "execution_count": null,
   "metadata": {},
   "outputs": [],
   "source": [
    "# reset index to have a unique id for each row\n",
    "df_final=df_final.reset_index()"
   ]
  },
  {
   "cell_type": "code",
   "execution_count": null,
   "metadata": {},
   "outputs": [],
   "source": [
    "# drop useless columns before saving the data\n",
    "col_to_drop=['id','index','is_directory','cloudinary_public_id','exact_match']\n",
    "df_final=df_final.drop(col_to_drop,axis=1)"
   ]
  },
  {
   "cell_type": "code",
   "execution_count": null,
   "metadata": {},
   "outputs": [],
   "source": [
    "# convert top_specialities into string type\n",
    "df_final.top_specialities.fillna('[]', inplace=True)\n",
    "df_final.top_specialities=df_final.top_specialities.astype(str).convert_dtypes()"
   ]
  },
  {
   "cell_type": "code",
   "execution_count": null,
   "metadata": {},
   "outputs": [],
   "source": [
    "# fill empty values of speciality by top_specialities if exists\n",
    "df_final.speciality=df_final.speciality.fillna(str(df_final['top_specialities']))"
   ]
  },
  {
   "cell_type": "code",
   "execution_count": null,
   "metadata": {},
   "outputs": [],
   "source": [
    "df_final.sample(100)"
   ]
  },
  {
   "cell_type": "code",
   "execution_count": null,
   "metadata": {},
   "outputs": [],
   "source": [
    "# Connect and save the data in a database\n",
    "username='root'\n",
    "host='localhost'\n",
    "database='doctolib_scrap'\n",
    "password=''\n",
    "\n",
    "engine=create_engine(f'mysql+pymysql://{username}:{password}@{host}/{database}')"
   ]
  },
  {
   "cell_type": "code",
   "execution_count": null,
   "metadata": {},
   "outputs": [],
   "source": [
    "# send data into the database\n",
    "df_final.to_sql('doctors',engine,if_exists='replace',index=False)"
   ]
  },
  {
   "cell_type": "markdown",
   "metadata": {},
   "source": [
    "## #3 Get availability\n",
    "\n",
    "Workflow:\n",
    "* Ask to the user for a list of doctors\n",
    "* Get the list from the database created from previous part\n",
    "* Get the enriched information for each profile\n",
    "* Access to the availability data thanks to enriched information\n",
    "\n",
    "Structure of the availability url: `https://www.doctolib.fr/availabilities.json?start_date=2020-04-10&visit_motive_ids=1235300&agenda_ids=202675&limit=4`"
   ]
  },
  {
   "cell_type": "code",
   "execution_count": null,
   "metadata": {},
   "outputs": [],
   "source": [
    "# Ask the user what kind of doctors they are looking for\n",
    "specialty_search=input('What kind of doctor are you looking for?\\n')\n",
    "\n",
    "# Ask the user where they would like to consult\n",
    "location_search=input('Where would you like to find this doctor? (please enter a zipcode)\\n')"
   ]
  },
  {
   "cell_type": "code",
   "execution_count": null,
   "metadata": {},
   "outputs": [],
   "source": [
    "# Search in the list of specialities (scraped before) if any of user input match. \n",
    "# If so, return a tuple of specialities.\n",
    "specialties_match=tuple(i for i in list_of_specialties if re.search(specialty_search,i,re.IGNORECASE))\n",
    "specialties_match"
   ]
  },
  {
   "cell_type": "code",
   "execution_count": null,
   "metadata": {},
   "outputs": [],
   "source": [
    "# convert tuple into string and rid of comma for tuple with one value\n",
    "data=str(specialties_match)\n",
    "\n",
    "if len(specialties_match)==1:\n",
    "    data=data.replace(\",\",\"\")\n",
    "\n",
    "data"
   ]
  },
  {
   "cell_type": "code",
   "execution_count": null,
   "metadata": {},
   "outputs": [],
   "source": [
    "# Send the query to database and retrieve the list of doctors matching the user input\n",
    "query=\"\"\"SELECT name_with_title, speciality, address, zipcode, city, link, case when doctolib_profile = 1 then \"True\" else \"False\" end as has_doctolib_profile FROM doctors WHERE zipcode = {} and speciality in {}\"\"\".format(location_search,data)\n",
    "print(query)\n",
    "db=pd.read_sql_query(query,engine)\n"
   ]
  },
  {
   "cell_type": "code",
   "execution_count": null,
   "metadata": {},
   "outputs": [],
   "source": [
    "db"
   ]
  },
  {
   "cell_type": "code",
   "execution_count": null,
   "metadata": {},
   "outputs": [],
   "source": [
    "# Get each slug in the url of the doctor to send in the headers\n",
    "link=db.link[0]\n",
    "\n",
    "doctor_slug=link[(re.search('(.*/){2}',link).end()):]\n",
    "\n",
    "pos_spe=re.search('^\\/(.*?)\\/',link)\n",
    "speciality_slug=pos_spe.group(1)\n",
    "\n",
    "pos_city=re.search('\\/.*\\/(.*?)\\/',link)\n",
    "city_slug=pos_city.group(1)\n",
    "\n",
    "print(link)\n",
    "speciality_slug"
   ]
  },
  {
   "cell_type": "code",
   "execution_count": null,
   "metadata": {},
   "outputs": [],
   "source": [
    "# Get enriched information for each profile (agendas_id and visit_motive_id)\n",
    "url=f'https://www.doctolib.fr/booking/{doctor_slug}.json'\n",
    "\n",
    "headers=f\"\"\"accept: application/json\n",
    "accept-language: fr-FR,fr;q=0.9,en-US;q=0.8,en;q=0.7\n",
    "content-type: application/json; charset=utf-8\n",
    "cookie: __cfduid=d2b5aa87f9a6624d7b6d080621c78dd071584958668; ssid=c8003987149mac-5zfwbZlNIgv0; cookie_consent=true; esid=Hag6WnEswqPNmOsSdO6nq8Jg; last_place=%7B%22place_id%22%3A%22ChIJ29CbGL9S6EcRkCVhgT7xCgM%22%2C%22name%22%3A%22Aisne%22%7D; utm_b2b=eyJfcmFpbHMiOnsibWVzc2FnZSI6IkJBaEpJaUoxZEcxZmMyOTFjbU5sUFdScGNtVmpkQ1oxZEcxZmJXVmthWFZ0UFFZNkJrVlUiLCJleHAiOiIyMDIwLTA0LTExVDE0OjQ5OjE3LjQ0M1oiLCJwdXIiOiJjb29raWUudXRtX2IyYiJ9fQ%3D%3D--86af30e089255e9939a367ff59042ed80385d9df; _doctolib_session=OJbFmCwXUFFExx3D7ArhPZAcTmY%2FiuV45MFME%2BOWOqZHxHN2fm33buQ4ZIXhJYZC34rS6Dkbj9faL3khcXcZCLxEqkNxi8BJMzNzmdRcnLkl0s7NvJC%2FFrsRBzXugfb6GQ%2FsNcOB8feIqEd0ZzbVUahP0UN%2FDbh1UVdODs6E46xVDBNkLSs%2BkATECtQpeB%2BC0dp373gQBoHeYovxDVk2bixGyapLNiucG3k7d5a130qPFJBmnThKAI4zW7No%2FyqQEKzKPjLeuVtyVcxah18v2UeIw2pa%2Bols0KF6Grt2TOOKBxgB5yBqhWHYQbDUq7jx6wMYDnnGZDQwCfWWmB%2FqikKsm9A3lhMCA2%2Bkk6uWL6K6%2F43Wzj9WmuvfHUH8XmyaAUJKwav7vmAnH0Ze3qnuXFdTmiR4lEs93k2nIEfKMcOz6V6Z%2FgMo23w%3D--a4gEopZ%2BrN8qgCQC--SboWN%2F0tvvy8vPqtrWicEA%3D%3D\n",
    "referer: https://www.doctolib.fr/{link}\n",
    "user-agent: Mozilla/5.0 (Macintosh; Intel Mac OS X 10_13_6) AppleWebKit/537.36 (KHTML, like Gecko) Chrome/80.0.3987.163 Safari/537.36\n",
    "x-csrf-token: HPo1YOpT3IX4imTZ1vYTpcdC3kXw36ciB1dwvSxUZH8b6tBjPoUVOkyK0bjYPYUgSdq3C3iCOBHxJ04sfsN1hA==\"\"\"\n",
    "headers=dict([i.strip().split(': ') for i in headers.split('\\n')])\n",
    "\n",
    "result=r.get(url,headers=headers).json()\n"
   ]
  },
  {
   "cell_type": "code",
   "execution_count": null,
   "metadata": {},
   "outputs": [],
   "source": [
    "# Get all visit_motives_id\n",
    "visit_motives=\"-\".join(pd.json_normalize(result['data']['visit_motives'])['id'].astype(str).tolist())\n",
    "visit_motives"
   ]
  },
  {
   "cell_type": "code",
   "execution_count": null,
   "metadata": {},
   "outputs": [],
   "source": [
    "# Get all agenda_id\n",
    "agendas=\"-\".join(pd.json_normalize(result['data']['agendas'])['id'].astype(str).tolist())\n",
    "agendas"
   ]
  },
  {
   "cell_type": "code",
   "execution_count": null,
   "metadata": {},
   "outputs": [],
   "source": [
    "# Get the date of the day to send in the url as start_date\n",
    "date=datetime.today().strftime('%Y-%m-%d')\n",
    "date"
   ]
  },
  {
   "cell_type": "code",
   "execution_count": null,
   "metadata": {},
   "outputs": [],
   "source": [
    "# Access to the availability data thanks to enriched information\n",
    "url=f\"https://www.doctolib.fr/availabilities.json?start_date={date}&visit_motive_ids={visit_motives}&agenda_ids={agendas}&limit=4\"\n",
    "\n",
    "headers=f\"\"\"accept: application/json\n",
    "accept-language: fr-FR,fr;q=0.9,en-US;q=0.8,en;q=0.7\n",
    "content-type: application/json; charset=utf-8\n",
    "cookie: __cfduid=d2b5aa87f9a6624d7b6d080621c78dd071584958668; ssid=c8003987149mac-5zfwbZlNIgv0; cookie_consent=true; esid=Hag6WnEswqPNmOsSdO6nq8Jg; last_place=%7B%22place_id%22%3A%22ChIJ29CbGL9S6EcRkCVhgT7xCgM%22%2C%22name%22%3A%22Aisne%22%7D; utm_b2b=eyJfcmFpbHMiOnsibWVzc2FnZSI6IkJBaEpJaUoxZEcxZmMyOTFjbU5sUFdScGNtVmpkQ1oxZEcxZmJXVmthWFZ0UFFZNkJrVlUiLCJleHAiOiIyMDIwLTA0LTExVDE0OjQ5OjE3LjQ0M1oiLCJwdXIiOiJjb29raWUudXRtX2IyYiJ9fQ%3D%3D--86af30e089255e9939a367ff59042ed80385d9df; _doctolib_session=OJbFmCwXUFFExx3D7ArhPZAcTmY%2FiuV45MFME%2BOWOqZHxHN2fm33buQ4ZIXhJYZC34rS6Dkbj9faL3khcXcZCLxEqkNxi8BJMzNzmdRcnLkl0s7NvJC%2FFrsRBzXugfb6GQ%2FsNcOB8feIqEd0ZzbVUahP0UN%2FDbh1UVdODs6E46xVDBNkLSs%2BkATECtQpeB%2BC0dp373gQBoHeYovxDVk2bixGyapLNiucG3k7d5a130qPFJBmnThKAI4zW7No%2FyqQEKzKPjLeuVtyVcxah18v2UeIw2pa%2Bols0KF6Grt2TOOKBxgB5yBqhWHYQbDUq7jx6wMYDnnGZDQwCfWWmB%2FqikKsm9A3lhMCA2%2Bkk6uWL6K6%2F43Wzj9WmuvfHUH8XmyaAUJKwav7vmAnH0Ze3qnuXFdTmiR4lEs93k2nIEfKMcOz6V6Z%2FgMo23w%3D--a4gEopZ%2BrN8qgCQC--SboWN%2F0tvvy8vPqtrWicEA%3D%3D\n",
    "referer: https://www.doctolib.fr/{link}\n",
    "user-agent: Mozilla/5.0 (Macintosh; Intel Mac OS X 10_13_6) AppleWebKit/537.36 (KHTML, like Gecko) Chrome/80.0.3987.163 Safari/537.36\n",
    "x-csrf-token: HPo1YOpT3IX4imTZ1vYTpcdC3kXw36ciB1dwvSxUZH8b6tBjPoUVOkyK0bjYPYUgSdq3C3iCOBHxJ04sfsN1hA==\"\"\"\n",
    "headers=dict([i.strip().split(': ') for i in headers.split('\\n')])\n",
    "\n",
    "result=r.get(url,headers=headers).json()\n"
   ]
  },
  {
   "cell_type": "code",
   "execution_count": null,
   "metadata": {},
   "outputs": [],
   "source": [
    "# Get the next availability slot depending on the use case\n",
    "# use cases : available in the next 4 days, available after\n",
    "availabilities=pd.json_normalize(result)\n",
    "\n",
    "if \"next_slot\" in availabilities.columns:\n",
    "    next_availability=availabilities.next_slot[0]\n",
    "else:\n",
    "    data=pd.json_normalize(result['availabilities'])\n",
    "    next_availability=data[data.slots.astype(str)!=\"[]\"].date.min()"
   ]
  },
  {
   "cell_type": "code",
   "execution_count": null,
   "metadata": {},
   "outputs": [],
   "source": [
    "# Global function to get the get next availability slot \n",
    "\n",
    "def get_next_availability(link):\n",
    "    #get the doctor_slug to put in url request\n",
    "    doctor_slug=link[(re.search('(.*/){2}',link).end()):]\n",
    "    # Get enriched information for each profile (agendas_id and visit_motive_id)\n",
    "    url=f'https://www.doctolib.fr/booking/{doctor_slug}.json'\n",
    "\n",
    "    headers=f\"\"\"accept: application/json\n",
    "    accept-language: fr-FR,fr;q=0.9,en-US;q=0.8,en;q=0.7\n",
    "    content-type: application/json; charset=utf-8\n",
    "    cookie: __cfduid=d2b5aa87f9a6624d7b6d080621c78dd071584958668; ssid=c8003987149mac-5zfwbZlNIgv0; cookie_consent=true; esid=Hag6WnEswqPNmOsSdO6nq8Jg; last_place=%7B%22place_id%22%3A%22ChIJ29CbGL9S6EcRkCVhgT7xCgM%22%2C%22name%22%3A%22Aisne%22%7D; utm_b2b=eyJfcmFpbHMiOnsibWVzc2FnZSI6IkJBaEpJaUoxZEcxZmMyOTFjbU5sUFdScGNtVmpkQ1oxZEcxZmJXVmthWFZ0UFFZNkJrVlUiLCJleHAiOiIyMDIwLTA0LTExVDE0OjQ5OjE3LjQ0M1oiLCJwdXIiOiJjb29raWUudXRtX2IyYiJ9fQ%3D%3D--86af30e089255e9939a367ff59042ed80385d9df; _doctolib_session=OJbFmCwXUFFExx3D7ArhPZAcTmY%2FiuV45MFME%2BOWOqZHxHN2fm33buQ4ZIXhJYZC34rS6Dkbj9faL3khcXcZCLxEqkNxi8BJMzNzmdRcnLkl0s7NvJC%2FFrsRBzXugfb6GQ%2FsNcOB8feIqEd0ZzbVUahP0UN%2FDbh1UVdODs6E46xVDBNkLSs%2BkATECtQpeB%2BC0dp373gQBoHeYovxDVk2bixGyapLNiucG3k7d5a130qPFJBmnThKAI4zW7No%2FyqQEKzKPjLeuVtyVcxah18v2UeIw2pa%2Bols0KF6Grt2TOOKBxgB5yBqhWHYQbDUq7jx6wMYDnnGZDQwCfWWmB%2FqikKsm9A3lhMCA2%2Bkk6uWL6K6%2F43Wzj9WmuvfHUH8XmyaAUJKwav7vmAnH0Ze3qnuXFdTmiR4lEs93k2nIEfKMcOz6V6Z%2FgMo23w%3D--a4gEopZ%2BrN8qgCQC--SboWN%2F0tvvy8vPqtrWicEA%3D%3D\n",
    "    referer: https://www.doctolib.fr/{link}\n",
    "    user-agent: Mozilla/5.0 (Macintosh; Intel Mac OS X 10_13_6) AppleWebKit/537.36 (KHTML, like Gecko) Chrome/80.0.3987.163 Safari/537.36\n",
    "    x-csrf-token: HPo1YOpT3IX4imTZ1vYTpcdC3kXw36ciB1dwvSxUZH8b6tBjPoUVOkyK0bjYPYUgSdq3C3iCOBHxJ04sfsN1hA==\"\"\"\n",
    "    headers=dict([i.strip().split(': ') for i in headers.split('\\n')])\n",
    "\n",
    "    result=r.get(url,headers=headers).json()\n",
    "    \n",
    "    # Get all visit_motives_id\n",
    "    visit_motives=\"-\".join(pd.json_normalize(result['data']['visit_motives'])['id'].astype(str).tolist())\n",
    "    # Get all agenda_id\n",
    "    agendas=\"-\".join(pd.json_normalize(result['data']['agendas'])['id'].astype(str).tolist())\n",
    "    \n",
    "    today=datetime.today().strftime('%Y-%m-%d')\n",
    "    \n",
    "    # Access to the availability data thanks to enriched information\n",
    "    url=f\"https://www.doctolib.fr/availabilities.json?start_date={today}&visit_motive_ids={visit_motives}&agenda_ids={agendas}&limit=4\"\n",
    "    headers=f\"\"\"accept: application/json\n",
    "    accept-language: fr-FR,fr;q=0.9,en-US;q=0.8,en;q=0.7\n",
    "    content-type: application/json; charset=utf-8\n",
    "    cookie: __cfduid=d2b5aa87f9a6624d7b6d080621c78dd071584958668; ssid=c8003987149mac-5zfwbZlNIgv0; cookie_consent=true; esid=Hag6WnEswqPNmOsSdO6nq8Jg; last_place=%7B%22place_id%22%3A%22ChIJ29CbGL9S6EcRkCVhgT7xCgM%22%2C%22name%22%3A%22Aisne%22%7D; utm_b2b=eyJfcmFpbHMiOnsibWVzc2FnZSI6IkJBaEpJaUoxZEcxZmMyOTFjbU5sUFdScGNtVmpkQ1oxZEcxZmJXVmthWFZ0UFFZNkJrVlUiLCJleHAiOiIyMDIwLTA0LTExVDE0OjQ5OjE3LjQ0M1oiLCJwdXIiOiJjb29raWUudXRtX2IyYiJ9fQ%3D%3D--86af30e089255e9939a367ff59042ed80385d9df; _doctolib_session=OJbFmCwXUFFExx3D7ArhPZAcTmY%2FiuV45MFME%2BOWOqZHxHN2fm33buQ4ZIXhJYZC34rS6Dkbj9faL3khcXcZCLxEqkNxi8BJMzNzmdRcnLkl0s7NvJC%2FFrsRBzXugfb6GQ%2FsNcOB8feIqEd0ZzbVUahP0UN%2FDbh1UVdODs6E46xVDBNkLSs%2BkATECtQpeB%2BC0dp373gQBoHeYovxDVk2bixGyapLNiucG3k7d5a130qPFJBmnThKAI4zW7No%2FyqQEKzKPjLeuVtyVcxah18v2UeIw2pa%2Bols0KF6Grt2TOOKBxgB5yBqhWHYQbDUq7jx6wMYDnnGZDQwCfWWmB%2FqikKsm9A3lhMCA2%2Bkk6uWL6K6%2F43Wzj9WmuvfHUH8XmyaAUJKwav7vmAnH0Ze3qnuXFdTmiR4lEs93k2nIEfKMcOz6V6Z%2FgMo23w%3D--a4gEopZ%2BrN8qgCQC--SboWN%2F0tvvy8vPqtrWicEA%3D%3D\n",
    "    referer: https://www.doctolib.fr/{link}\n",
    "    user-agent: Mozilla/5.0 (Macintosh; Intel Mac OS X 10_13_6) AppleWebKit/537.36 (KHTML, like Gecko) Chrome/80.0.3987.163 Safari/537.36\n",
    "    x-csrf-token: HPo1YOpT3IX4imTZ1vYTpcdC3kXw36ciB1dwvSxUZH8b6tBjPoUVOkyK0bjYPYUgSdq3C3iCOBHxJ04sfsN1hA==\"\"\"\n",
    "    headers=dict([i.strip().split(': ') for i in headers.split('\\n')])\n",
    "\n",
    "    result=r.get(url,headers=headers).json()\n",
    "    \n",
    "    availabilities=pd.json_normalize(result)\n",
    "\n",
    "    if \"next_slot\" in availabilities.columns:\n",
    "        next_availability=availabilities.next_slot[0]\n",
    "    else:\n",
    "        data=pd.json_normalize(result['availabilities'])\n",
    "        next_availability=data[data.slots.astype(str)!=\"[]\"].date.min()\n",
    "    \n",
    "    return next_availability\n",
    "\n",
    "\n",
    "# Test function\n",
    "test=get_next_availability('/dentiste/paris/marie-hulle')\n",
    "print(test)\n"
   ]
  },
  {
   "cell_type": "code",
   "execution_count": null,
   "metadata": {},
   "outputs": [],
   "source": [
    "# From the result retreived in the database, get all doctors with a doctolib profile\n",
    "doctolib_profile=db[db['has_doctolib_profile']==\"True\"]\n",
    "doctolib_profile"
   ]
  },
  {
   "cell_type": "code",
   "execution_count": null,
   "metadata": {},
   "outputs": [],
   "source": [
    "# Apply the function to the list of doctolib profil and assign the value in a new column next_availability\n",
    "doctolib_profile = doctolib_profile.assign(\n",
    "    next_availability = doctolib_profile.link.apply(get_next_availability).tolist()) \n",
    "doctolib_profile"
   ]
  },
  {
   "cell_type": "code",
   "execution_count": null,
   "metadata": {},
   "outputs": [],
   "source": [
    "db"
   ]
  },
  {
   "cell_type": "code",
   "execution_count": null,
   "metadata": {},
   "outputs": [],
   "source": []
  }
 ],
 "metadata": {
  "kernelspec": {
   "display_name": "Python 3",
   "language": "python",
   "name": "python3"
  },
  "language_info": {
   "codemirror_mode": {
    "name": "ipython",
    "version": 3
   },
   "file_extension": ".py",
   "mimetype": "text/x-python",
   "name": "python",
   "nbconvert_exporter": "python",
   "pygments_lexer": "ipython3",
   "version": "3.7.4"
  }
 },
 "nbformat": 4,
 "nbformat_minor": 2
}
